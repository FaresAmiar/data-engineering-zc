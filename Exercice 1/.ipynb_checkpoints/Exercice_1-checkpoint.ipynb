{
 "cells": [
  {
   "cell_type": "code",
   "execution_count": null,
   "id": "a30e1a0d-c447-4cda-afdf-9239aca1f9ff",
   "metadata": {},
   "outputs": [],
   "source": [
    "!pip install pandas sqlalchemy psycopg2"
   ]
  },
  {
   "cell_type": "code",
   "execution_count": 68,
   "id": "a907de06-e8a9-40e6-b0f2-837c7bc7e7df",
   "metadata": {},
   "outputs": [
    {
     "name": "stdout",
     "output_type": "stream",
     "text": [
      "Ingested 100000 rows...\n",
      "Ingested 100000 rows...\n",
      "Ingested 100000 rows...\n",
      "Ingested 100000 rows...\n",
      "Ingested 76386 rows...\n",
      "Ingestion done !\n"
     ]
    }
   ],
   "source": [
    "import pandas as pd\n",
    "from sqlalchemy import create_engine, text\n",
    "\n",
    "DB_USER = \"postgres\"\n",
    "DB_PASSWORD = \"root\"\n",
    "DB_HOST = \"localhost\"\n",
    "DB_PORT = \"5432\"\n",
    "DB_NAME = \"green-taxi-data\"\n",
    "\n",
    "CSV_FILE = \"data/green_tripdata_2019-10.csv\"\n",
    "\n",
    "engine = create_engine(f\"postgresql://{DB_USER}:{DB_PASSWORD}@{DB_HOST}:{DB_PORT}/{DB_NAME}\")\n",
    "\n",
    "with engine.begin() as conn:\n",
    "    conn.execute(text(\"DROP TABLE IF EXISTS green_trips CASCADE;\"))\n",
    "    conn.execute(text(\"CREATE TABLE green_trips (LIKE green_taxi_data INCLUDING ALL);\"))\n",
    "\n",
    "chunksize = 100000  \n",
    "dtype = {\n",
    "    'VendorID': 'Int64',\n",
    "    'passenger_count': 'Int64',\n",
    "    'trip_distance': 'float64',\n",
    "    'RatecodeID': 'Int64',\n",
    "    'store_and_fwd_flag': 'str',\n",
    "    'PULocationID': 'Int64',\n",
    "    'DOLocationID': 'Int64',\n",
    "    'payment_type': 'Int64',\n",
    "    'fare_amount': 'float64',\n",
    "    'extra': 'float64',\n",
    "    'mta_tax': 'float64',\n",
    "    'tip_amount': 'float64',\n",
    "    'tolls_amount': 'float64',\n",
    "    'improvement_surcharge': 'float64',\n",
    "    'total_amount': 'float64',\n",
    "    'congestion_surcharge': 'float64'\n",
    "}\n",
    "\n",
    "for chunk in pd.read_csv(\n",
    "    CSV_FILE,\n",
    "    chunksize=chunksize,\n",
    "    dtype=dtype,  # <-- Ajouté\n",
    "    parse_dates=['lpep_pickup_datetime', 'lpep_dropoff_datetime']\n",
    "):\n",
    "    chunk.to_sql(\"green_taxi_data\", engine, if_exists=\"append\", index=False)\n",
    "    print(f\"Ingested {len(chunk)} rows...\")\n",
    "\n",
    "CSV_FILE = \"taxi_zone_lookup.csv\"\n",
    "\n",
    "df = pd.read_csv(CSV_FILE)\n",
    "\n",
    "df.to_sql(\n",
    "    name=\"taxi_zones\", \n",
    "    con=engine,         \n",
    "    if_exists=\"replace\", \n",
    "    index=False      \n",
    ")\n",
    "\n",
    "print(\"Ingestion done !\")"
   ]
  },
  {
   "cell_type": "code",
   "execution_count": null,
   "id": "a5ca0bc0-fdbd-43f7-834f-3ddded0bdd5e",
   "metadata": {},
   "outputs": [],
   "source": [
    "query = \"\"\"\n",
    "    SELECT \n",
    "    COUNT(*) FILTER (WHERE trip_distance <= 1) AS up_to_1_mile,\n",
    "    COUNT(*) FILTER (WHERE trip_distance > 1 AND trip_distance <= 3) AS between_1_3,\n",
    "    COUNT(*) FILTER (WHERE trip_distance > 3 AND trip_distance <= 7) AS between_3_7,\n",
    "    COUNT(*) FILTER (WHERE trip_distance > 7 AND trip_distance <= 10) AS between_7_10,\n",
    "    COUNT(*) FILTER (WHERE trip_distance > 10) AS over_10\n",
    "FROM green_taxi_data\n",
    "WHERE \n",
    "    lpep_pickup_datetime >= '2019-10-01' AND \n",
    "    lpep_pickup_datetime < '2019-11-01';\n",
    "\"\"\"\n",
    "\n",
    "pd.read_sql(query, engine)"
   ]
  },
  {
   "cell_type": "code",
   "execution_count": null,
   "id": "9d4c1219-8b0d-4ffe-82ad-dc6598b076ca",
   "metadata": {},
   "outputs": [],
   "source": [
    "query = \"\"\"\n",
    "    SELECT \n",
    "    DATE(lpep_pickup_datetime) AS pickup_day,\n",
    "    MAX(trip_distance) AS longest_trip_distance\n",
    "FROM green_trips\n",
    "GROUP BY pickup_day\n",
    "ORDER BY longest_trip_distance DESC\n",
    "LIMIT 1;\n",
    "\"\"\"\n",
    "\n",
    "pd.read_sql(query, engine)"
   ]
  },
  {
   "cell_type": "code",
   "execution_count": null,
   "id": "455e8f4e-8e92-42a3-bf51-5672a7ff7d4a",
   "metadata": {},
   "outputs": [],
   "source": [
    "query = \"\"\"\n",
    "    SELECT \n",
    "    tz.\"Zone\" AS pickup_zone,\n",
    "    SUM(gt.total_amount) AS total_amount\n",
    "FROM green_trips gt\n",
    "JOIN taxi_zones tz ON gt.\"PULocationID\" = tz.\"LocationID\"\n",
    "WHERE DATE(gt.lpep_pickup_datetime) = '2019-10-18'\n",
    "GROUP BY tz.\"Zone\"\n",
    "HAVING SUM(gt.total_amount) > 13000\n",
    "ORDER BY total_amount DESC\n",
    "LIMIT 3;\n",
    "\"\"\"\n",
    "\n",
    "pd.read_sql(query, engine)"
   ]
  },
  {
   "cell_type": "code",
   "execution_count": null,
   "id": "99205faa-3728-4444-8254-775a6e4efc21",
   "metadata": {},
   "outputs": [],
   "source": [
    "query = \"\"\"\n",
    "    SELECT \n",
    "    tz_drop.\"Zone\" AS dropoff_zone,\n",
    "    MAX(gt.tip_amount) AS largest_tip\n",
    "FROM green_trips gt\n",
    "JOIN taxi_zones tz_pick ON gt.\"PULocationID\" = tz_pick.\"LocationID\"\n",
    "JOIN taxi_zones tz_drop ON gt.\"DOLocationID\" = tz_drop.\"LocationID\"\n",
    "WHERE \n",
    "    tz_pick.\"Zone\" = 'East Harlem North' AND\n",
    "    DATE_TRUNC('month', gt.lpep_pickup_datetime) = '2019-10-01'\n",
    "GROUP BY tz_drop.\"Zone\"\n",
    "ORDER BY largest_tip DESC\n",
    "LIMIT 1;\n",
    "\"\"\"\n",
    "\n",
    "pd.read_sql(query, engine)"
   ]
  }
 ],
 "metadata": {
  "kernelspec": {
   "display_name": "Python 3 (ipykernel)",
   "language": "python",
   "name": "python3"
  },
  "language_info": {
   "codemirror_mode": {
    "name": "ipython",
    "version": 3
   },
   "file_extension": ".py",
   "mimetype": "text/x-python",
   "name": "python",
   "nbconvert_exporter": "python",
   "pygments_lexer": "ipython3",
   "version": "3.11.0"
  }
 },
 "nbformat": 4,
 "nbformat_minor": 5
}
